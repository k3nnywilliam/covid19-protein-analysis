{
 "cells": [
  {
   "cell_type": "markdown",
   "id": "4618544c",
   "metadata": {},
   "source": [
    "### To-do list\n",
    "\n",
    "- Add introduction and miscellaneous info\n",
    "- Perform DNA translation and transcription\n",
    "- Perform investigation on amino acid sequences\n",
    "- Perform BLAST queries\n",
    "- Show data viz\n",
    "- Compare similarities between COV2, SARS and MERS"
   ]
  },
  {
   "cell_type": "code",
   "execution_count": 137,
   "id": "06099f79",
   "metadata": {},
   "outputs": [],
   "source": [
    "import os\n",
    "from Bio.SeqRecord import SeqRecord\n",
    "from Bio import SeqIO\n",
    "import pandas as pd\n",
    "import seaborn as sns\n",
    "import matplotlib.pyplot as plt\n",
    "\n",
    "import warnings\n",
    "warnings.filterwarnings(\"ignore\", category=FutureWarning)"
   ]
  },
  {
   "cell_type": "markdown",
   "id": "619e2fbc",
   "metadata": {},
   "source": [
    "#### Load the data"
   ]
  },
  {
   "cell_type": "code",
   "execution_count": 138,
   "id": "de279c0b",
   "metadata": {},
   "outputs": [],
   "source": [
    "path = os.getcwd()\n",
    "covid = SeqIO.read(path+'/data/coronavirus-genome-sequence/MN908947.fna', \"fasta\")"
   ]
  },
  {
   "cell_type": "code",
   "execution_count": 139,
   "id": "5f59ad4f",
   "metadata": {
    "scrolled": true
   },
   "outputs": [
    {
     "name": "stdout",
     "output_type": "stream",
     "text": [
      "Id: MN908947.3\n",
      "Size: 29903 nucleotides\n"
     ]
    }
   ],
   "source": [
    "for sequence in SeqIO.parse(path+'/data/coronavirus-genome-sequence/MN908947.fna', \"fasta\"):\n",
    "    print('Id: ' + sequence.id + '\\nSize: ' + str(len(sequence))+' nucleotides')"
   ]
  },
  {
   "cell_type": "markdown",
   "id": "88f83bf9",
   "metadata": {},
   "source": [
    "#### Verify the data"
   ]
  },
  {
   "cell_type": "code",
   "execution_count": 140,
   "id": "4895b451",
   "metadata": {},
   "outputs": [],
   "source": [
    "DNA = covid.seq"
   ]
  },
  {
   "cell_type": "markdown",
   "id": "6a3ff679",
   "metadata": {},
   "source": [
    "#### DNA translation"
   ]
  },
  {
   "cell_type": "code",
   "execution_count": 141,
   "id": "95afdc86",
   "metadata": {
    "scrolled": false
   },
   "outputs": [
    {
     "data": {
      "text/plain": [
       "Seq('ATTAAAGGTTTATACCTTCCCAGGTAACAAACCAACCAACTTTCGATCTCTTGT...AAA')"
      ]
     },
     "execution_count": 141,
     "metadata": {},
     "output_type": "execute_result"
    }
   ],
   "source": [
    "DNA"
   ]
  },
  {
   "cell_type": "markdown",
   "id": "21b2eeca",
   "metadata": {},
   "source": [
    "#### Transcription"
   ]
  },
  {
   "cell_type": "code",
   "execution_count": 142,
   "id": "70c30a64",
   "metadata": {},
   "outputs": [],
   "source": [
    "mRNA = DNA.transcribe()"
   ]
  },
  {
   "cell_type": "code",
   "execution_count": 143,
   "id": "7a832b7e",
   "metadata": {},
   "outputs": [
    {
     "data": {
      "text/plain": [
       "Seq('AUUAAAGGUUUAUACCUUCCCAGGUAACAAACCAACCAACUUUCGAUCUCUUGU...AAA')"
      ]
     },
     "execution_count": 143,
     "metadata": {},
     "output_type": "execute_result"
    }
   ],
   "source": [
    "mRNA"
   ]
  },
  {
   "cell_type": "code",
   "execution_count": 144,
   "id": "3b781282",
   "metadata": {},
   "outputs": [
    {
     "data": {
      "text/plain": [
       "29903"
      ]
     },
     "execution_count": 144,
     "metadata": {},
     "output_type": "execute_result"
    }
   ],
   "source": [
    "len(mRNA)"
   ]
  },
  {
   "cell_type": "code",
   "execution_count": 145,
   "id": "c6b1c27f",
   "metadata": {
    "scrolled": true
   },
   "outputs": [
    {
     "name": "stderr",
     "output_type": "stream",
     "text": [
      "/Users/kennyallau/.virtualenvs/bioenv38/lib/python3.8/site-packages/Bio/Seq.py:2334: BiopythonWarning: Partial codon, len(sequence) not a multiple of three. Explicitly trim the sequence or add trailing N before translation. This may become an error in future.\n",
      "  warnings.warn(\n"
     ]
    }
   ],
   "source": [
    "amino_acid = mRNA.translate(table=1, cds=False)"
   ]
  },
  {
   "cell_type": "code",
   "execution_count": 146,
   "id": "b3b85d63",
   "metadata": {},
   "outputs": [
    {
     "data": {
      "text/plain": [
       "Seq('IKGLYLPR*QTNQLSISCRSVL*TNFKICVAVTRLHA*CTHAV*LITNYCR*QD...KKK')"
      ]
     },
     "execution_count": 146,
     "metadata": {},
     "output_type": "execute_result"
    }
   ],
   "source": [
    "amino_acid"
   ]
  },
  {
   "cell_type": "code",
   "execution_count": 147,
   "id": "a38ce477",
   "metadata": {},
   "outputs": [
    {
     "data": {
      "text/plain": [
       "'Covid-19 has 9967 amino acids.'"
      ]
     },
     "execution_count": 147,
     "metadata": {},
     "output_type": "execute_result"
    }
   ],
   "source": [
    "f\"Covid-19 has {len(amino_acid)} amino acids.\""
   ]
  },
  {
   "cell_type": "code",
   "execution_count": 148,
   "id": "7ae74232",
   "metadata": {},
   "outputs": [],
   "source": [
    "proteins = amino_acid.split('*')"
   ]
  },
  {
   "cell_type": "code",
   "execution_count": 149,
   "id": "6a2fd252",
   "metadata": {},
   "outputs": [
    {
     "data": {
      "text/plain": [
       "775"
      ]
     },
     "execution_count": 149,
     "metadata": {},
     "output_type": "execute_result"
    }
   ],
   "source": [
    "len(proteins)"
   ]
  },
  {
   "cell_type": "code",
   "execution_count": 150,
   "id": "44a4e8e7",
   "metadata": {},
   "outputs": [
    {
     "data": {
      "text/plain": [
       "[Seq('IKGLYLPR'),\n",
       " Seq('QTNQLSISCRSVL'),\n",
       " Seq('TNFKICVAVTRLHA'),\n",
       " Seq('CTHAV'),\n",
       " Seq('LITNYCR')]"
      ]
     },
     "execution_count": 150,
     "metadata": {},
     "output_type": "execute_result"
    }
   ],
   "source": [
    "proteins[:5]"
   ]
  },
  {
   "cell_type": "code",
   "execution_count": 151,
   "id": "da656036",
   "metadata": {
    "scrolled": false
   },
   "outputs": [
    {
     "name": "stdout",
     "output_type": "stream",
     "text": [
      "Table 1 Standard, SGC0\n",
      "\n",
      "  |  U      |  C      |  A      |  G      |\n",
      "--+---------+---------+---------+---------+--\n",
      "U | UUU F   | UCU S   | UAU Y   | UGU C   | U\n",
      "U | UUC F   | UCC S   | UAC Y   | UGC C   | C\n",
      "U | UUA L   | UCA S   | UAA Stop| UGA Stop| A\n",
      "U | UUG L(s)| UCG S   | UAG Stop| UGG W   | G\n",
      "--+---------+---------+---------+---------+--\n",
      "C | CUU L   | CCU P   | CAU H   | CGU R   | U\n",
      "C | CUC L   | CCC P   | CAC H   | CGC R   | C\n",
      "C | CUA L   | CCA P   | CAA Q   | CGA R   | A\n",
      "C | CUG L(s)| CCG P   | CAG Q   | CGG R   | G\n",
      "--+---------+---------+---------+---------+--\n",
      "A | AUU I   | ACU T   | AAU N   | AGU S   | U\n",
      "A | AUC I   | ACC T   | AAC N   | AGC S   | C\n",
      "A | AUA I   | ACA T   | AAA K   | AGA R   | A\n",
      "A | AUG M(s)| ACG T   | AAG K   | AGG R   | G\n",
      "--+---------+---------+---------+---------+--\n",
      "G | GUU V   | GCU A   | GAU D   | GGU G   | U\n",
      "G | GUC V   | GCC A   | GAC D   | GGC G   | C\n",
      "G | GUA V   | GCA A   | GAA E   | GGA G   | A\n",
      "G | GUG V   | GCG A   | GAG E   | GGG G   | G\n",
      "--+---------+---------+---------+---------+--\n"
     ]
    }
   ],
   "source": [
    "from Bio.Data import CodonTable\n",
    "print(CodonTable.unambiguous_rna_by_name['Standard'])"
   ]
  },
  {
   "cell_type": "code",
   "execution_count": 152,
   "id": "09fcc439",
   "metadata": {},
   "outputs": [],
   "source": [
    "df = pd.DataFrame(proteins)"
   ]
  },
  {
   "cell_type": "code",
   "execution_count": 153,
   "id": "f8a07f43",
   "metadata": {},
   "outputs": [
    {
     "data": {
      "text/html": [
       "<div>\n",
       "<style scoped>\n",
       "    .dataframe tbody tr th:only-of-type {\n",
       "        vertical-align: middle;\n",
       "    }\n",
       "\n",
       "    .dataframe tbody tr th {\n",
       "        vertical-align: top;\n",
       "    }\n",
       "\n",
       "    .dataframe thead th {\n",
       "        text-align: right;\n",
       "    }\n",
       "</style>\n",
       "<table border=\"1\" class=\"dataframe\">\n",
       "  <thead>\n",
       "    <tr style=\"text-align: right;\">\n",
       "      <th></th>\n",
       "      <th>0</th>\n",
       "    </tr>\n",
       "  </thead>\n",
       "  <tbody>\n",
       "    <tr>\n",
       "      <th>count</th>\n",
       "      <td>775</td>\n",
       "    </tr>\n",
       "    <tr>\n",
       "      <th>unique</th>\n",
       "      <td>625</td>\n",
       "    </tr>\n",
       "    <tr>\n",
       "      <th>top</th>\n",
       "      <td>()</td>\n",
       "    </tr>\n",
       "    <tr>\n",
       "      <th>freq</th>\n",
       "      <td>69</td>\n",
       "    </tr>\n",
       "  </tbody>\n",
       "</table>\n",
       "</div>"
      ],
      "text/plain": [
       "          0\n",
       "count   775\n",
       "unique  625\n",
       "top      ()\n",
       "freq     69"
      ]
     },
     "execution_count": 153,
     "metadata": {},
     "output_type": "execute_result"
    }
   ],
   "source": [
    "df.describe()"
   ]
  },
  {
   "cell_type": "code",
   "execution_count": 154,
   "id": "f5103dde",
   "metadata": {},
   "outputs": [],
   "source": [
    "df['length'] = df[0].apply(len)\n",
    "functional_proteins = df.loc[df['length'] >= 20]"
   ]
  },
  {
   "cell_type": "code",
   "execution_count": 155,
   "id": "a2b8e7b5",
   "metadata": {},
   "outputs": [
    {
     "data": {
      "text/html": [
       "<div>\n",
       "<style scoped>\n",
       "    .dataframe tbody tr th:only-of-type {\n",
       "        vertical-align: middle;\n",
       "    }\n",
       "\n",
       "    .dataframe tbody tr th {\n",
       "        vertical-align: top;\n",
       "    }\n",
       "\n",
       "    .dataframe thead th {\n",
       "        text-align: right;\n",
       "    }\n",
       "</style>\n",
       "<table border=\"1\" class=\"dataframe\">\n",
       "  <thead>\n",
       "    <tr style=\"text-align: right;\">\n",
       "      <th></th>\n",
       "      <th>0</th>\n",
       "      <th>length</th>\n",
       "    </tr>\n",
       "  </thead>\n",
       "  <tbody>\n",
       "    <tr>\n",
       "      <th>5</th>\n",
       "      <td>(Q, D, T, S, N, S, S, I, F, C, R, L, L, T, V, ...</td>\n",
       "      <td>35</td>\n",
       "    </tr>\n",
       "    <tr>\n",
       "      <th>6</th>\n",
       "      <td>(D, G, E, P, C, P, W, F, Q, R, E, N, T, R, P, ...</td>\n",
       "      <td>46</td>\n",
       "    </tr>\n",
       "    <tr>\n",
       "      <th>9</th>\n",
       "      <td>(T, A, L, C, V, H, Q, T, F, G, C, S, N, C, T, ...</td>\n",
       "      <td>21</td>\n",
       "    </tr>\n",
       "    <tr>\n",
       "      <th>12</th>\n",
       "      <td>(D, T, W, C, P, C, P, S, C, G, R, N, T, S, G, ...</td>\n",
       "      <td>22</td>\n",
       "    </tr>\n",
       "    <tr>\n",
       "      <th>39</th>\n",
       "      <td>(H, L, Q, W, G, M, S, K, F, C, I, S, L, K, F, ...</td>\n",
       "      <td>24</td>\n",
       "    </tr>\n",
       "    <tr>\n",
       "      <th>...</th>\n",
       "      <td>...</td>\n",
       "      <td>...</td>\n",
       "    </tr>\n",
       "    <tr>\n",
       "      <th>757</th>\n",
       "      <td>(S, I, Q, C, N, T, S, F, R, Q, T, W, S, R, T, ...</td>\n",
       "      <td>30</td>\n",
       "    </tr>\n",
       "    <tr>\n",
       "      <th>758</th>\n",
       "      <td>(L, Q, T, L, A, A, N, C, T, I, C, P, Q, R, F, ...</td>\n",
       "      <td>43</td>\n",
       "    </tr>\n",
       "    <tr>\n",
       "      <th>764</th>\n",
       "      <td>(N, S, S, L, T, A, E, T, E, E, T, A, N, C, D, ...</td>\n",
       "      <td>23</td>\n",
       "    </tr>\n",
       "    <tr>\n",
       "      <th>766</th>\n",
       "      <td>(L, N, S, G, L, N, S, C, R, P, H, K, A, D, G, ...</td>\n",
       "      <td>27</td>\n",
       "    </tr>\n",
       "    <tr>\n",
       "      <th>771</th>\n",
       "      <td>(K, S, H, H, I, F, T, E, A, T, R, S, T, I, E, ...</td>\n",
       "      <td>43</td>\n",
       "    </tr>\n",
       "  </tbody>\n",
       "</table>\n",
       "<p>80 rows × 2 columns</p>\n",
       "</div>"
      ],
      "text/plain": [
       "                                                     0  length\n",
       "5    (Q, D, T, S, N, S, S, I, F, C, R, L, L, T, V, ...      35\n",
       "6    (D, G, E, P, C, P, W, F, Q, R, E, N, T, R, P, ...      46\n",
       "9    (T, A, L, C, V, H, Q, T, F, G, C, S, N, C, T, ...      21\n",
       "12   (D, T, W, C, P, C, P, S, C, G, R, N, T, S, G, ...      22\n",
       "39   (H, L, Q, W, G, M, S, K, F, C, I, S, L, K, F, ...      24\n",
       "..                                                 ...     ...\n",
       "757  (S, I, Q, C, N, T, S, F, R, Q, T, W, S, R, T, ...      30\n",
       "758  (L, Q, T, L, A, A, N, C, T, I, C, P, Q, R, F, ...      43\n",
       "764  (N, S, S, L, T, A, E, T, E, E, T, A, N, C, D, ...      23\n",
       "766  (L, N, S, G, L, N, S, C, R, P, H, K, A, D, G, ...      27\n",
       "771  (K, S, H, H, I, F, T, E, A, T, R, S, T, I, E, ...      43\n",
       "\n",
       "[80 rows x 2 columns]"
      ]
     },
     "execution_count": 155,
     "metadata": {},
     "output_type": "execute_result"
    }
   ],
   "source": [
    "functional_proteins"
   ]
  },
  {
   "cell_type": "code",
   "execution_count": 156,
   "id": "96644cd9",
   "metadata": {},
   "outputs": [
    {
     "data": {
      "text/html": [
       "<div>\n",
       "<style scoped>\n",
       "    .dataframe tbody tr th:only-of-type {\n",
       "        vertical-align: middle;\n",
       "    }\n",
       "\n",
       "    .dataframe tbody tr th {\n",
       "        vertical-align: top;\n",
       "    }\n",
       "\n",
       "    .dataframe thead th {\n",
       "        text-align: right;\n",
       "    }\n",
       "</style>\n",
       "<table border=\"1\" class=\"dataframe\">\n",
       "  <thead>\n",
       "    <tr style=\"text-align: right;\">\n",
       "      <th></th>\n",
       "      <th>length</th>\n",
       "    </tr>\n",
       "  </thead>\n",
       "  <tbody>\n",
       "    <tr>\n",
       "      <th>count</th>\n",
       "      <td>80.000000</td>\n",
       "    </tr>\n",
       "    <tr>\n",
       "      <th>mean</th>\n",
       "      <td>67.262500</td>\n",
       "    </tr>\n",
       "    <tr>\n",
       "      <th>std</th>\n",
       "      <td>299.955767</td>\n",
       "    </tr>\n",
       "    <tr>\n",
       "      <th>min</th>\n",
       "      <td>20.000000</td>\n",
       "    </tr>\n",
       "    <tr>\n",
       "      <th>25%</th>\n",
       "      <td>22.000000</td>\n",
       "    </tr>\n",
       "    <tr>\n",
       "      <th>50%</th>\n",
       "      <td>25.000000</td>\n",
       "    </tr>\n",
       "    <tr>\n",
       "      <th>75%</th>\n",
       "      <td>36.000000</td>\n",
       "    </tr>\n",
       "    <tr>\n",
       "      <th>max</th>\n",
       "      <td>2701.000000</td>\n",
       "    </tr>\n",
       "  </tbody>\n",
       "</table>\n",
       "</div>"
      ],
      "text/plain": [
       "            length\n",
       "count    80.000000\n",
       "mean     67.262500\n",
       "std     299.955767\n",
       "min      20.000000\n",
       "25%      22.000000\n",
       "50%      25.000000\n",
       "75%      36.000000\n",
       "max    2701.000000"
      ]
     },
     "execution_count": 156,
     "metadata": {},
     "output_type": "execute_result"
    }
   ],
   "source": [
    "functional_proteins.describe()"
   ]
  },
  {
   "cell_type": "code",
   "execution_count": 157,
   "id": "29292f6a",
   "metadata": {},
   "outputs": [],
   "source": [
    "df['amino acid sequence'] = df[0].apply(str)"
   ]
  },
  {
   "cell_type": "code",
   "execution_count": 158,
   "id": "85352497",
   "metadata": {
    "scrolled": true
   },
   "outputs": [
    {
     "name": "stderr",
     "output_type": "stream",
     "text": [
      "/Users/kennyallau/.virtualenvs/bioenv38/lib/python3.8/site-packages/pandas/core/frame.py:4441: SettingWithCopyWarning: \n",
      "A value is trying to be set on a copy of a slice from a DataFrame\n",
      "\n",
      "See the caveats in the documentation: https://pandas.pydata.org/pandas-docs/stable/user_guide/indexing.html#returning-a-view-versus-a-copy\n",
      "  return super().rename(\n"
     ]
    }
   ],
   "source": [
    "functional_proteins.rename(columns={0: \"sequence\"}, inplace=True)"
   ]
  },
  {
   "cell_type": "code",
   "execution_count": 159,
   "id": "7e0fa27d",
   "metadata": {},
   "outputs": [
    {
     "name": "stderr",
     "output_type": "stream",
     "text": [
      "<ipython-input-159-d410d05ae72a>:1: SettingWithCopyWarning: \n",
      "A value is trying to be set on a copy of a slice from a DataFrame.\n",
      "Try using .loc[row_indexer,col_indexer] = value instead\n",
      "\n",
      "See the caveats in the documentation: https://pandas.pydata.org/pandas-docs/stable/user_guide/indexing.html#returning-a-view-versus-a-copy\n",
      "  functional_proteins['amino acid sequence'] = df[0].apply(str)\n"
     ]
    }
   ],
   "source": [
    "functional_proteins['amino acid sequence'] = df[0].apply(str)"
   ]
  },
  {
   "cell_type": "code",
   "execution_count": 160,
   "id": "31ea6933",
   "metadata": {},
   "outputs": [],
   "source": [
    "amino_acid_seq = functional_proteins.sort_values(by=['length'], ascending=False)"
   ]
  },
  {
   "cell_type": "code",
   "execution_count": 161,
   "id": "4053ace9",
   "metadata": {},
   "outputs": [
    {
     "data": {
      "text/html": [
       "<div>\n",
       "<style scoped>\n",
       "    .dataframe tbody tr th:only-of-type {\n",
       "        vertical-align: middle;\n",
       "    }\n",
       "\n",
       "    .dataframe tbody tr th {\n",
       "        vertical-align: top;\n",
       "    }\n",
       "\n",
       "    .dataframe thead th {\n",
       "        text-align: right;\n",
       "    }\n",
       "</style>\n",
       "<table border=\"1\" class=\"dataframe\">\n",
       "  <thead>\n",
       "    <tr style=\"text-align: right;\">\n",
       "      <th></th>\n",
       "      <th>sequence</th>\n",
       "      <th>length</th>\n",
       "      <th>amino acid sequence</th>\n",
       "    </tr>\n",
       "  </thead>\n",
       "  <tbody>\n",
       "    <tr>\n",
       "      <th>548</th>\n",
       "      <td>(C, T, I, V, F, K, R, V, C, G, V, S, A, A, R, ...</td>\n",
       "      <td>2701</td>\n",
       "      <td>CTIVFKRVCGVSAARLTPCGTGTSTDVVYRAFDIYNDKVAGFAKFL...</td>\n",
       "    </tr>\n",
       "    <tr>\n",
       "      <th>694</th>\n",
       "      <td>(A, S, A, Q, R, S, Q, I, T, L, H, I, N, E, L, ...</td>\n",
       "      <td>290</td>\n",
       "      <td>ASAQRSQITLHINELMDLFMRIFTIGTVTLKQGEIKDATPSDFVRA...</td>\n",
       "    </tr>\n",
       "    <tr>\n",
       "      <th>719</th>\n",
       "      <td>(T, N, M, K, I, I, L, F, L, A, L, I, T, L, A, ...</td>\n",
       "      <td>123</td>\n",
       "      <td>TNMKIILFLALITLATCELYHYQECVRGTTVLLKEPCSSGTYEGNS...</td>\n",
       "    </tr>\n",
       "    <tr>\n",
       "      <th>695</th>\n",
       "      <td>(A, Q, A, D, E, Y, E, L, M, Y, S, F, V, S, E, ...</td>\n",
       "      <td>83</td>\n",
       "      <td>AQADEYELMYSFVSEETGTLIVNSVLLFLAFVVFLLVTLAILTALR...</td>\n",
       "    </tr>\n",
       "    <tr>\n",
       "      <th>718</th>\n",
       "      <td>(Q, Q, M, F, H, L, V, D, F, Q, V, T, I, A, E, ...</td>\n",
       "      <td>63</td>\n",
       "      <td>QQMFHLVDFQVTIAEILLIIMRTFKVSIWNLDYIINLIIKNLSKSL...</td>\n",
       "    </tr>\n",
       "    <tr>\n",
       "      <th>...</th>\n",
       "      <td>...</td>\n",
       "      <td>...</td>\n",
       "      <td>...</td>\n",
       "    </tr>\n",
       "    <tr>\n",
       "      <th>736</th>\n",
       "      <td>(P, E, W, R, T, Q, W, G, A, I, K, T, T, S, A, ...</td>\n",
       "      <td>20</td>\n",
       "      <td>PEWRTQWGAIKTTSAPRFTQ</td>\n",
       "    </tr>\n",
       "    <tr>\n",
       "      <th>477</th>\n",
       "      <td>(L, L, R, C, S, Y, N, C, H, V, F, G, Q, R, Y, ...</td>\n",
       "      <td>20</td>\n",
       "      <td>LLRCSYNCHVFGQRYCFYVC</td>\n",
       "    </tr>\n",
       "    <tr>\n",
       "      <th>275</th>\n",
       "      <td>(F, K, N, Y, R, R, G, W, P, H, R, S, N, G, C, ...</td>\n",
       "      <td>20</td>\n",
       "      <td>FKNYRRGWPHRSNGCLCRQF</td>\n",
       "    </tr>\n",
       "    <tr>\n",
       "      <th>301</th>\n",
       "      <td>(M, G, F, N, C, F, W, L, S, C, R, V, V, F, G, ...</td>\n",
       "      <td>20</td>\n",
       "      <td>MGFNCFWLSCRVVFGIYSFH</td>\n",
       "    </tr>\n",
       "    <tr>\n",
       "      <th>594</th>\n",
       "      <td>(R, H, Q, I, C, I, C, L, C, L, E, Q, E, E, N, ...</td>\n",
       "      <td>20</td>\n",
       "      <td>RHQICICLCLEQEENQQLCC</td>\n",
       "    </tr>\n",
       "  </tbody>\n",
       "</table>\n",
       "<p>80 rows × 3 columns</p>\n",
       "</div>"
      ],
      "text/plain": [
       "                                              sequence  length  \\\n",
       "548  (C, T, I, V, F, K, R, V, C, G, V, S, A, A, R, ...    2701   \n",
       "694  (A, S, A, Q, R, S, Q, I, T, L, H, I, N, E, L, ...     290   \n",
       "719  (T, N, M, K, I, I, L, F, L, A, L, I, T, L, A, ...     123   \n",
       "695  (A, Q, A, D, E, Y, E, L, M, Y, S, F, V, S, E, ...      83   \n",
       "718  (Q, Q, M, F, H, L, V, D, F, Q, V, T, I, A, E, ...      63   \n",
       "..                                                 ...     ...   \n",
       "736  (P, E, W, R, T, Q, W, G, A, I, K, T, T, S, A, ...      20   \n",
       "477  (L, L, R, C, S, Y, N, C, H, V, F, G, Q, R, Y, ...      20   \n",
       "275  (F, K, N, Y, R, R, G, W, P, H, R, S, N, G, C, ...      20   \n",
       "301  (M, G, F, N, C, F, W, L, S, C, R, V, V, F, G, ...      20   \n",
       "594  (R, H, Q, I, C, I, C, L, C, L, E, Q, E, E, N, ...      20   \n",
       "\n",
       "                                   amino acid sequence  \n",
       "548  CTIVFKRVCGVSAARLTPCGTGTSTDVVYRAFDIYNDKVAGFAKFL...  \n",
       "694  ASAQRSQITLHINELMDLFMRIFTIGTVTLKQGEIKDATPSDFVRA...  \n",
       "719  TNMKIILFLALITLATCELYHYQECVRGTTVLLKEPCSSGTYEGNS...  \n",
       "695  AQADEYELMYSFVSEETGTLIVNSVLLFLAFVVFLLVTLAILTALR...  \n",
       "718  QQMFHLVDFQVTIAEILLIIMRTFKVSIWNLDYIINLIIKNLSKSL...  \n",
       "..                                                 ...  \n",
       "736                               PEWRTQWGAIKTTSAPRFTQ  \n",
       "477                               LLRCSYNCHVFGQRYCFYVC  \n",
       "275                               FKNYRRGWPHRSNGCLCRQF  \n",
       "301                               MGFNCFWLSCRVVFGIYSFH  \n",
       "594                               RHQICICLCLEQEENQQLCC  \n",
       "\n",
       "[80 rows x 3 columns]"
      ]
     },
     "execution_count": 161,
     "metadata": {},
     "output_type": "execute_result"
    }
   ],
   "source": [
    "amino_acid_seq"
   ]
  },
  {
   "cell_type": "code",
   "execution_count": 162,
   "id": "36b744bc",
   "metadata": {},
   "outputs": [],
   "source": [
    "amino_acid_seq=amino_acid_seq.drop('sequence', axis=1)"
   ]
  },
  {
   "cell_type": "code",
   "execution_count": 163,
   "id": "91942cf6",
   "metadata": {
    "scrolled": false
   },
   "outputs": [
    {
     "data": {
      "text/html": [
       "<div>\n",
       "<style scoped>\n",
       "    .dataframe tbody tr th:only-of-type {\n",
       "        vertical-align: middle;\n",
       "    }\n",
       "\n",
       "    .dataframe tbody tr th {\n",
       "        vertical-align: top;\n",
       "    }\n",
       "\n",
       "    .dataframe thead th {\n",
       "        text-align: right;\n",
       "    }\n",
       "</style>\n",
       "<table border=\"1\" class=\"dataframe\">\n",
       "  <thead>\n",
       "    <tr style=\"text-align: right;\">\n",
       "      <th></th>\n",
       "      <th>length</th>\n",
       "      <th>amino acid sequence</th>\n",
       "    </tr>\n",
       "  </thead>\n",
       "  <tbody>\n",
       "    <tr>\n",
       "      <th>548</th>\n",
       "      <td>2701</td>\n",
       "      <td>CTIVFKRVCGVSAARLTPCGTGTSTDVVYRAFDIYNDKVAGFAKFL...</td>\n",
       "    </tr>\n",
       "    <tr>\n",
       "      <th>694</th>\n",
       "      <td>290</td>\n",
       "      <td>ASAQRSQITLHINELMDLFMRIFTIGTVTLKQGEIKDATPSDFVRA...</td>\n",
       "    </tr>\n",
       "    <tr>\n",
       "      <th>719</th>\n",
       "      <td>123</td>\n",
       "      <td>TNMKIILFLALITLATCELYHYQECVRGTTVLLKEPCSSGTYEGNS...</td>\n",
       "    </tr>\n",
       "    <tr>\n",
       "      <th>695</th>\n",
       "      <td>83</td>\n",
       "      <td>AQADEYELMYSFVSEETGTLIVNSVLLFLAFVVFLLVTLAILTALR...</td>\n",
       "    </tr>\n",
       "    <tr>\n",
       "      <th>718</th>\n",
       "      <td>63</td>\n",
       "      <td>QQMFHLVDFQVTIAEILLIIMRTFKVSIWNLDYIINLIIKNLSKSL...</td>\n",
       "    </tr>\n",
       "    <tr>\n",
       "      <th>...</th>\n",
       "      <td>...</td>\n",
       "      <td>...</td>\n",
       "    </tr>\n",
       "    <tr>\n",
       "      <th>736</th>\n",
       "      <td>20</td>\n",
       "      <td>PEWRTQWGAIKTTSAPRFTQ</td>\n",
       "    </tr>\n",
       "    <tr>\n",
       "      <th>477</th>\n",
       "      <td>20</td>\n",
       "      <td>LLRCSYNCHVFGQRYCFYVC</td>\n",
       "    </tr>\n",
       "    <tr>\n",
       "      <th>275</th>\n",
       "      <td>20</td>\n",
       "      <td>FKNYRRGWPHRSNGCLCRQF</td>\n",
       "    </tr>\n",
       "    <tr>\n",
       "      <th>301</th>\n",
       "      <td>20</td>\n",
       "      <td>MGFNCFWLSCRVVFGIYSFH</td>\n",
       "    </tr>\n",
       "    <tr>\n",
       "      <th>594</th>\n",
       "      <td>20</td>\n",
       "      <td>RHQICICLCLEQEENQQLCC</td>\n",
       "    </tr>\n",
       "  </tbody>\n",
       "</table>\n",
       "<p>80 rows × 2 columns</p>\n",
       "</div>"
      ],
      "text/plain": [
       "     length                                amino acid sequence\n",
       "548    2701  CTIVFKRVCGVSAARLTPCGTGTSTDVVYRAFDIYNDKVAGFAKFL...\n",
       "694     290  ASAQRSQITLHINELMDLFMRIFTIGTVTLKQGEIKDATPSDFVRA...\n",
       "719     123  TNMKIILFLALITLATCELYHYQECVRGTTVLLKEPCSSGTYEGNS...\n",
       "695      83  AQADEYELMYSFVSEETGTLIVNSVLLFLAFVVFLLVTLAILTALR...\n",
       "718      63  QQMFHLVDFQVTIAEILLIIMRTFKVSIWNLDYIINLIIKNLSKSL...\n",
       "..      ...                                                ...\n",
       "736      20                               PEWRTQWGAIKTTSAPRFTQ\n",
       "477      20                               LLRCSYNCHVFGQRYCFYVC\n",
       "275      20                               FKNYRRGWPHRSNGCLCRQF\n",
       "301      20                               MGFNCFWLSCRVVFGIYSFH\n",
       "594      20                               RHQICICLCLEQEENQQLCC\n",
       "\n",
       "[80 rows x 2 columns]"
      ]
     },
     "execution_count": 163,
     "metadata": {},
     "output_type": "execute_result"
    }
   ],
   "source": [
    "amino_acid_seq"
   ]
  },
  {
   "cell_type": "code",
   "execution_count": 164,
   "id": "b9af89fe",
   "metadata": {},
   "outputs": [],
   "source": [
    "from Bio.SeqUtils.ProtParam import ProteinAnalysis"
   ]
  },
  {
   "cell_type": "code",
   "execution_count": 165,
   "id": "1c4a54b3",
   "metadata": {},
   "outputs": [],
   "source": [
    "aa = str()\n",
    "for i in functional_proteins['amino acid sequence']:\n",
    "    aa+=i\n",
    "\n",
    "analyzed_aa_seq = ProteinAnalysis(aa)"
   ]
  },
  {
   "cell_type": "code",
   "execution_count": 166,
   "id": "492cdc14",
   "metadata": {
    "scrolled": true
   },
   "outputs": [
    {
     "data": {
      "text/plain": [
       "{'A': 275,\n",
       " 'C': 301,\n",
       " 'D': 237,\n",
       " 'E': 172,\n",
       " 'F': 336,\n",
       " 'G': 249,\n",
       " 'H': 165,\n",
       " 'I': 260,\n",
       " 'K': 255,\n",
       " 'L': 508,\n",
       " 'M': 90,\n",
       " 'N': 306,\n",
       " 'P': 192,\n",
       " 'Q': 189,\n",
       " 'R': 275,\n",
       " 'S': 419,\n",
       " 'T': 382,\n",
       " 'V': 379,\n",
       " 'W': 111,\n",
       " 'Y': 280}"
      ]
     },
     "execution_count": 166,
     "metadata": {},
     "output_type": "execute_result"
    }
   ],
   "source": [
    "analyzed_aa_seq.count_amino_acids()"
   ]
  },
  {
   "cell_type": "code",
   "execution_count": 167,
   "id": "781d3c04",
   "metadata": {},
   "outputs": [
    {
     "data": {
      "text/plain": [
       "{'A': 0.05110574242705817,\n",
       " 'C': 0.0559375580747073,\n",
       " 'D': 0.044043858018955585,\n",
       " 'E': 0.03196431889983274,\n",
       " 'F': 0.06244192529269652,\n",
       " 'G': 0.04627392677940903,\n",
       " 'H': 0.0306634454562349,\n",
       " 'I': 0.04831815647649136,\n",
       " 'K': 0.047388961159635756,\n",
       " 'L': 0.09440624419252927,\n",
       " 'M': 0.016725515703400855,\n",
       " 'N': 0.056866753391562906,\n",
       " 'P': 0.035681100167255154,\n",
       " 'Q': 0.0351235829771418,\n",
       " 'R': 0.05110574242705817,\n",
       " 'S': 0.07786656755249953,\n",
       " 'T': 0.07099052220776807,\n",
       " 'V': 0.07043300501765472,\n",
       " 'W': 0.02062813603419439,\n",
       " 'Y': 0.05203493774391377}"
      ]
     },
     "execution_count": 167,
     "metadata": {},
     "output_type": "execute_result"
    }
   ],
   "source": [
    "analyzed_aa_seq.get_amino_acids_percent()"
   ]
  },
  {
   "cell_type": "code",
   "execution_count": 168,
   "id": "ad56d83f",
   "metadata": {},
   "outputs": [
    {
     "data": {
      "text/plain": [
       "617539.0634999983"
      ]
     },
     "execution_count": 168,
     "metadata": {},
     "output_type": "execute_result"
    }
   ],
   "source": [
    "analyzed_aa_seq.molecular_weight()"
   ]
  },
  {
   "cell_type": "code",
   "execution_count": 181,
   "id": "d6d624c3",
   "metadata": {
    "scrolled": true
   },
   "outputs": [
    {
     "data": {
      "text/plain": [
       "0.13510499907080467"
      ]
     },
     "execution_count": 181,
     "metadata": {},
     "output_type": "execute_result"
    }
   ],
   "source": [
    "analyzed_aa_seq.aromaticity()"
   ]
  },
  {
   "cell_type": "code",
   "execution_count": 183,
   "id": "bf2b7928",
   "metadata": {},
   "outputs": [
    {
     "data": {
      "text/plain": [
       "-0.0642631481137321"
      ]
     },
     "execution_count": 183,
     "metadata": {},
     "output_type": "execute_result"
    }
   ],
   "source": [
    "analyzed_seq.gravy()"
   ]
  },
  {
   "cell_type": "code",
   "execution_count": 182,
   "id": "4825b2cc",
   "metadata": {},
   "outputs": [
    {
     "data": {
      "text/plain": [
       "8.67223873138428"
      ]
     },
     "execution_count": 182,
     "metadata": {},
     "output_type": "execute_result"
    }
   ],
   "source": [
    "analyzed_aa_seq.isoelectric_point()"
   ]
  },
  {
   "cell_type": "code",
   "execution_count": 177,
   "id": "2814e04a",
   "metadata": {},
   "outputs": [],
   "source": [
    "from Bio.Blast import NCBIWWW\n",
    "result_handle = NCBIWWW.qblast(\"blastp\", \"nt\", amino_acid_seq)"
   ]
  },
  {
   "cell_type": "code",
   "execution_count": 178,
   "id": "ea6203b4",
   "metadata": {},
   "outputs": [],
   "source": [
    "with open(\"aa_blast.xml\", \"w\") as out_handle:\n",
    "    out_handle.write(result_handle.read())\n",
    "\n",
    "result_handle.close()\n",
    "result_handle = open(\"aa_blast.xml\")"
   ]
  },
  {
   "cell_type": "code",
   "execution_count": 179,
   "id": "0cb62974",
   "metadata": {},
   "outputs": [],
   "source": [
    "from Bio.Blast import NCBIXML\n",
    "blast_records = NCBIXML.parse(result_handle)"
   ]
  },
  {
   "cell_type": "code",
   "execution_count": null,
   "id": "7069dfc5",
   "metadata": {},
   "outputs": [],
   "source": []
  }
 ],
 "metadata": {
  "kernelspec": {
   "display_name": "Python 3",
   "language": "python",
   "name": "python3"
  },
  "language_info": {
   "codemirror_mode": {
    "name": "ipython",
    "version": 3
   },
   "file_extension": ".py",
   "mimetype": "text/x-python",
   "name": "python",
   "nbconvert_exporter": "python",
   "pygments_lexer": "ipython3",
   "version": "3.8.8"
  }
 },
 "nbformat": 4,
 "nbformat_minor": 5
}
